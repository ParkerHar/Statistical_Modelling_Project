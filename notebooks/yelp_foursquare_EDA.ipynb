{
 "cells": [
  {
   "cell_type": "code",
   "execution_count": 68,
   "metadata": {},
   "outputs": [],
   "source": [
    "# imports\n",
    "import pandas as pd\n",
    "import os # use this to access your environment variables\n",
    "import requests # this will be used to call the APIs\n",
    "import json"
   ]
  },
  {
   "cell_type": "code",
   "execution_count": 5,
   "metadata": {},
   "outputs": [],
   "source": [
    "# From city bikes workbook\n",
    "path = '/Users/parkerharalds/Documents/Lighthouse/Statistical_Modelling_Project/data/city_bikes.csv'\n",
    "df = pd.read_csv(path)"
   ]
  },
  {
   "cell_type": "code",
   "execution_count": 6,
   "metadata": {},
   "outputs": [
    {
     "data": {
      "text/plain": [
       "(258, 7)"
      ]
     },
     "execution_count": 6,
     "metadata": {},
     "output_type": "execute_result"
    }
   ],
   "source": [
    "df.shape"
   ]
  },
  {
   "cell_type": "code",
   "execution_count": 7,
   "metadata": {},
   "outputs": [
    {
     "data": {
      "text/html": [
       "<div>\n",
       "<style scoped>\n",
       "    .dataframe tbody tr th:only-of-type {\n",
       "        vertical-align: middle;\n",
       "    }\n",
       "\n",
       "    .dataframe tbody tr th {\n",
       "        vertical-align: top;\n",
       "    }\n",
       "\n",
       "    .dataframe thead th {\n",
       "        text-align: right;\n",
       "    }\n",
       "</style>\n",
       "<table border=\"1\" class=\"dataframe\">\n",
       "  <thead>\n",
       "    <tr style=\"text-align: right;\">\n",
       "      <th></th>\n",
       "      <th>city</th>\n",
       "      <th>station_id</th>\n",
       "      <th>station_name</th>\n",
       "      <th>latitude</th>\n",
       "      <th>longitude</th>\n",
       "      <th>free_bikes</th>\n",
       "      <th>empty_slots</th>\n",
       "    </tr>\n",
       "  </thead>\n",
       "  <tbody>\n",
       "    <tr>\n",
       "      <th>0</th>\n",
       "      <td>Vancouver</td>\n",
       "      <td>00fa94ad698dc4a9e4d708d6fd32f294</td>\n",
       "      <td>Chilco &amp; Barclay</td>\n",
       "      <td>49.291909</td>\n",
       "      <td>-123.140713</td>\n",
       "      <td>11</td>\n",
       "      <td>7</td>\n",
       "    </tr>\n",
       "    <tr>\n",
       "      <th>1</th>\n",
       "      <td>Vancouver</td>\n",
       "      <td>012d3e06901cc222b1c2cf0a2ace3a29</td>\n",
       "      <td>St George &amp; Broadway</td>\n",
       "      <td>49.262321</td>\n",
       "      <td>-123.093060</td>\n",
       "      <td>1</td>\n",
       "      <td>13</td>\n",
       "    </tr>\n",
       "  </tbody>\n",
       "</table>\n",
       "</div>"
      ],
      "text/plain": [
       "        city                        station_id          station_name  \\\n",
       "0  Vancouver  00fa94ad698dc4a9e4d708d6fd32f294      Chilco & Barclay   \n",
       "1  Vancouver  012d3e06901cc222b1c2cf0a2ace3a29  St George & Broadway   \n",
       "\n",
       "    latitude   longitude  free_bikes  empty_slots  \n",
       "0  49.291909 -123.140713          11            7  \n",
       "1  49.262321 -123.093060           1           13  "
      ]
     },
     "execution_count": 7,
     "metadata": {},
     "output_type": "execute_result"
    }
   ],
   "source": [
    "# smaller city bikes dataframe used for testing\n",
    "df2 = df.head(2)\n",
    "df2"
   ]
  },
  {
   "cell_type": "markdown",
   "metadata": {},
   "source": [
    "# Foursquare"
   ]
  },
  {
   "cell_type": "markdown",
   "metadata": {},
   "source": [
    "Send a request to Foursquare with a small radius (1000m) for all the bike stations in your city of choice. "
   ]
  },
  {
   "cell_type": "markdown",
   "metadata": {},
   "source": [
    "**Function to make API calls based on latitude and longitude from city_bikes.csv:**"
   ]
  },
  {
   "cell_type": "code",
   "execution_count": 9,
   "metadata": {},
   "outputs": [],
   "source": [
    "api_key = os.environ['FS_API_KEY']\n",
    "headers = {\"accept\": \"application/json\",\n",
    "           'Authorization': api_key}\n",
    "url ='https://api.foursquare.com/v3/places/search?'\n",
    "\n",
    "def get_nearby_places(lat, lon):\n",
    "    filters = {  'll': f'{lat},{lon}',            #lat and lon to same string\n",
    "                'radius': 1000,                  # Radius in meters (specified above)  \n",
    "                'categories': 13032,       # code for coffee shops and cafes\n",
    "                'limit': 50              \n",
    "            }                 \n",
    "    response = requests.get(url, headers= headers, params= filters)\n",
    "    if response.status_code == 200:             #if api call was successfull return the results\n",
    "        data = response.json()\n",
    "        results = data['results']\n",
    "        df_results = pd.json_normalize(results)\n",
    "        return df_results\n",
    "    else:\n",
    "        print('Error')\n",
    "        return None"
   ]
  },
  {
   "cell_type": "markdown",
   "metadata": {},
   "source": [
    "Parse through the response to get the POI (such as restaurants, bars, etc) details you want (ratings, name, location, etc)"
   ]
  },
  {
   "cell_type": "markdown",
   "metadata": {},
   "source": [
    "Put your parsed results into a DataFrame"
   ]
  },
  {
   "cell_type": "code",
   "execution_count": 10,
   "metadata": {},
   "outputs": [],
   "source": [
    "# Iterate through the DataFrame and make API calls to foursquare api\n",
    "df_all_stations = pd.DataFrame()\n",
    "for index, row in df.iterrows():\n",
    "    lat, lon = row['latitude'], row['longitude']\n",
    "    df_this_station = get_nearby_places(lat, lon)\n",
    "    \n",
    "    if df_this_station is not None:\n",
    "        df_this_station['station'] = row['station_id']\n",
    "        df_all_stations = pd.concat([df_all_stations, df_this_station], axis=0)\n",
    "\n",
    "# df_all_stations"
   ]
  },
  {
   "cell_type": "code",
   "execution_count": 11,
   "metadata": {},
   "outputs": [],
   "source": [
    "fsq_df = df_all_stations\n",
    "fsq_df.shape"
   ]
  },
  {
   "cell_type": "code",
   "execution_count": 14,
   "metadata": {},
   "outputs": [],
   "source": [
    "#saving as csv to use for rest of project\n",
    "fsq_df.to_csv('fsq_df.csv',index=False,sep=',')"
   ]
  },
  {
   "cell_type": "markdown",
   "metadata": {},
   "source": [
    "# Yelp"
   ]
  },
  {
   "cell_type": "markdown",
   "metadata": {},
   "source": [
    "Send a request to Yelp with a small radius (1000m) for all the bike stations in your city of choice. "
   ]
  },
  {
   "cell_type": "markdown",
   "metadata": {},
   "source": [
    "Test api call:"
   ]
  },
  {
   "cell_type": "code",
   "execution_count": 22,
   "metadata": {},
   "outputs": [],
   "source": [
    "yelp_api_key = os.environ['yelp_api']\n",
    "y_headers = {\"accept\": \"application/json\",\n",
    "           'Authorization': f'Bearer {yelp_api_key}'\n",
    "}\n",
    "filters = {     'latitude': 48.4, \n",
    "                'longitude': 123.4,           \n",
    "                'radius': 1000     \n",
    "            }      \n",
    "y_url = f'https://api.yelp.com/v3/businesses/search?'\n",
    "y_response = requests.get(y_url, headers=y_headers, params=filters)"
   ]
  },
  {
   "cell_type": "code",
   "execution_count": 156,
   "metadata": {},
   "outputs": [],
   "source": [
    "testing = y_response.json()\n",
    "testing['businesses'] #will use this for json_normalize in function"
   ]
  },
  {
   "cell_type": "markdown",
   "metadata": {},
   "source": [
    "Yelp API call (limit 300 calls per day):\n",
    "\n",
    "Should be able to run entire ciry bikes df as it only has 258 rows."
   ]
  },
  {
   "cell_type": "code",
   "execution_count": 23,
   "metadata": {},
   "outputs": [],
   "source": [
    "yelp_api_key = os.environ['yelp_api']\n",
    "y_headers = {\"accept\": \"application/json\",\n",
    "           'Authorization': f'Bearer {yelp_api_key}'\n",
    "           }\n",
    "y_url = f'https://api.yelp.com/v3/businesses/search?'\n",
    "\n",
    "def get_yelp_places(lat, lon):\n",
    "    filters = { 'latitude': lat, \n",
    "                'longitude': lon,           \n",
    "                'radius': 1000,                    \n",
    "                'categories': 'cafes',      \n",
    "            }                 \n",
    "    y_response = requests.get(y_url, headers=y_headers, params=filters)\n",
    "    if y_response.status_code == 200:             \n",
    "        data = y_response.json()\n",
    "        results = data['businesses']\n",
    "        df_results = pd.json_normalize(results)\n",
    "        return df_results\n",
    "    else:\n",
    "        print('Error')\n",
    "        return None\n"
   ]
  },
  {
   "cell_type": "markdown",
   "metadata": {},
   "source": [
    "Parse through the response to get the POI (such as restaurants, bars, etc) details you want (ratings, name, location, etc)"
   ]
  },
  {
   "cell_type": "markdown",
   "metadata": {},
   "source": [
    "Put your parsed results into a DataFrame"
   ]
  },
  {
   "cell_type": "code",
   "execution_count": 24,
   "metadata": {},
   "outputs": [],
   "source": [
    "# Iterate through the DataFrame and make API calls to yelp fusion api\n",
    "df_yelp_stations = pd.DataFrame()\n",
    "for index, row in df.iterrows():\n",
    "    lat = row['latitude']\n",
    "    lon =  row['longitude']\n",
    "    df_this_yelp = get_yelp_places(lat, lon)\n",
    "    \n",
    "    if df_this_yelp is not None:\n",
    "        df_this_yelp['station'] = row['station_id']\n",
    "        df_yelp_stations = pd.concat([df_yelp_stations, df_this_yelp], axis=0)\n",
    "df_yelp_stations = df_yelp_stations.reset_index(drop=True)\n",
    "\n",
    "# df_yelp_stations"
   ]
  },
  {
   "cell_type": "code",
   "execution_count": 25,
   "metadata": {},
   "outputs": [
    {
     "data": {
      "text/plain": [
       "(3864, 30)"
      ]
     },
     "execution_count": 25,
     "metadata": {},
     "output_type": "execute_result"
    }
   ],
   "source": [
    "yelp_df = df_yelp_stations\n",
    "\n",
    "yelp_df.shape"
   ]
  },
  {
   "cell_type": "code",
   "execution_count": 26,
   "metadata": {},
   "outputs": [],
   "source": [
    "#storing csv to use later \n",
    "yelp_df.to_csv('yelp_df.csv',index=False,sep=',')"
   ]
  },
  {
   "cell_type": "markdown",
   "metadata": {},
   "source": [
    "# Comparing Results"
   ]
  },
  {
   "cell_type": "markdown",
   "metadata": {},
   "source": [
    "Which API provided you with more complete data? Provide an explanation. "
   ]
  },
  {
   "cell_type": "markdown",
   "metadata": {},
   "source": [
    "**Yelp:**"
   ]
  },
  {
   "cell_type": "code",
   "execution_count": null,
   "metadata": {},
   "outputs": [],
   "source": [
    "yelp_nulls = yelp_df.isna().any()\n",
    "yelp_nulls"
   ]
  },
  {
   "cell_type": "code",
   "execution_count": 42,
   "metadata": {},
   "outputs": [
    {
     "name": "stdout",
     "output_type": "stream",
     "text": [
      "The shape is:\n",
      " (3864, 30) \n",
      "The columns are:\n",
      " Index(['id', 'alias', 'name', 'image_url', 'is_closed', 'url', 'review_count',\n",
      "       'categories', 'rating', 'transactions', 'phone', 'display_phone',\n",
      "       'distance', 'business_hours', 'coordinates.latitude',\n",
      "       'coordinates.longitude', 'location.address1', 'location.address2',\n",
      "       'location.address3', 'location.city', 'location.zip_code',\n",
      "       'location.country', 'location.state', 'location.display_address',\n",
      "       'attributes.business_temp_closed', 'attributes.menu_url',\n",
      "       'attributes.open24_hours', 'attributes.waitlist_reservation', 'price',\n",
      "       'station'],\n",
      "      dtype='object')\n"
     ]
    }
   ],
   "source": [
    "print('The shape is:\\n', yelp_df.shape,\n",
    "      '\\nThe columns are:\\n', yelp_df.columns\n",
    "      )"
   ]
  },
  {
   "cell_type": "code",
   "execution_count": null,
   "metadata": {},
   "outputs": [],
   "source": [
    "# yelp_df['review_count']"
   ]
  },
  {
   "cell_type": "markdown",
   "metadata": {},
   "source": [
    "**FourSquare:**"
   ]
  },
  {
   "cell_type": "code",
   "execution_count": null,
   "metadata": {},
   "outputs": [],
   "source": [
    "fsq_df"
   ]
  },
  {
   "cell_type": "code",
   "execution_count": null,
   "metadata": {},
   "outputs": [],
   "source": [
    "fsq_nulls = fsq_df.isna().any()\n",
    "fsq_nulls\n",
    "\n"
   ]
  },
  {
   "cell_type": "code",
   "execution_count": 56,
   "metadata": {},
   "outputs": [
    {
     "name": "stdout",
     "output_type": "stream",
     "text": [
      "The shape is:\n",
      " (10660, 30) \n",
      "The columns are:\n",
      " Index(['fsq_id', 'categories', 'chains', 'closed_bucket', 'distance', 'link',\n",
      "       'name', 'timezone', 'geocodes.drop_off.latitude',\n",
      "       'geocodes.drop_off.longitude', 'geocodes.main.latitude',\n",
      "       'geocodes.main.longitude', 'geocodes.roof.latitude',\n",
      "       'geocodes.roof.longitude', 'location.address', 'location.country',\n",
      "       'location.cross_street', 'location.formatted_address',\n",
      "       'location.locality', 'location.postcode', 'location.region',\n",
      "       'location.address_extended', 'related_places.children', 'station',\n",
      "       'related_places.parent.fsq_id', 'related_places.parent.categories',\n",
      "       'related_places.parent.name', 'geocodes.front_door.latitude',\n",
      "       'geocodes.front_door.longitude', 'location.po_box'],\n",
      "      dtype='object')\n"
     ]
    }
   ],
   "source": [
    "print('The shape is:\\n',fsq_df.shape,\n",
    "      '\\nThe columns are:\\n',fsq_df.columns\n",
    "      )"
   ]
  },
  {
   "cell_type": "markdown",
   "metadata": {},
   "source": [
    "Both apis have columns with null values; however, in both cases the columns are columns that I do not plan on using in this project. Most are seccondary pieces of information that may be nice to have in the future, but are not relevant now.\n",
    "\n",
    "The foursquare dataframe contains many more rows, but the data in the Yelp dataframe is more in line with how I plan to use the data moving forward. It contains information regarding the review count and rating which I plan to use to build a model later on."
   ]
  },
  {
   "cell_type": "markdown",
   "metadata": {},
   "source": [
    "Get the top 10 restaurants according to their rating"
   ]
  },
  {
   "cell_type": "code",
   "execution_count": 64,
   "metadata": {},
   "outputs": [],
   "source": [
    "top_ten = yelp_df.sort_values('rating',ascending=False).head(10)"
   ]
  },
  {
   "cell_type": "code",
   "execution_count": null,
   "metadata": {},
   "outputs": [],
   "source": [
    "top_ten"
   ]
  },
  {
   "cell_type": "markdown",
   "metadata": {},
   "source": [
    "These restaurants all have a very small number of ratings. Repeating the question for restaurant with more than 10 ratings:"
   ]
  },
  {
   "cell_type": "code",
   "execution_count": 66,
   "metadata": {},
   "outputs": [],
   "source": [
    "true_top_ten = yelp_df[yelp_df['review_count']>=10].sort_values('rating',ascending=False).head(10)"
   ]
  },
  {
   "cell_type": "code",
   "execution_count": null,
   "metadata": {},
   "outputs": [],
   "source": [
    "true_top_ten"
   ]
  },
  {
   "cell_type": "markdown",
   "metadata": {},
   "source": [
    "The true top ten has many restaurants tied at 4.8. This could be further explored if given more time. In the future, weighting review_count and rating together could give a better overall 'rating' score."
   ]
  }
 ],
 "metadata": {
  "kernelspec": {
   "display_name": "first_env",
   "language": "python",
   "name": "first_env"
  },
  "language_info": {
   "codemirror_mode": {
    "name": "ipython",
    "version": 3
   },
   "file_extension": ".py",
   "mimetype": "text/x-python",
   "name": "python",
   "nbconvert_exporter": "python",
   "pygments_lexer": "ipython3",
   "version": "3.9.15"
  }
 },
 "nbformat": 4,
 "nbformat_minor": 4
}
