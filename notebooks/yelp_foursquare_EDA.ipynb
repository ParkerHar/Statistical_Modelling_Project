{
 "cells": [
  {
   "cell_type": "code",
   "execution_count": 2,
   "metadata": {},
   "outputs": [],
   "source": [
    "# imports\n",
    "import pandas as pd\n",
    "import os # use this to access your environment variables\n",
    "import requests # this will be used to call the APIs\n",
    "import json"
   ]
  },
  {
   "cell_type": "code",
   "execution_count": 4,
   "metadata": {},
   "outputs": [],
   "source": [
    "# From city bikes workbook\n",
    "path = '/Users/parkerharalds/Documents/Lighthouse/Statistical_Modelling_Project/data/city_bikes.csv'\n",
    "df = pd.read_csv(path)"
   ]
  },
  {
   "cell_type": "code",
   "execution_count": null,
   "metadata": {},
   "outputs": [],
   "source": [
    "# smaller city bikes dataframe used for testing\n",
    "df2 = df.head(2)\n",
    "df2"
   ]
  },
  {
   "cell_type": "markdown",
   "metadata": {},
   "source": [
    "# Foursquare"
   ]
  },
  {
   "cell_type": "markdown",
   "metadata": {},
   "source": [
    "Send a request to Foursquare with a small radius (1000m) for all the bike stations in your city of choice. "
   ]
  },
  {
   "cell_type": "markdown",
   "metadata": {},
   "source": [
    "**Function to make API calls based on latitude and longitude from city_bikes.csv:**"
   ]
  },
  {
   "cell_type": "code",
   "execution_count": 94,
   "metadata": {},
   "outputs": [],
   "source": [
    "api_key = os.environ['FS_API_KEY']\n",
    "headers = {\"accept\": \"application/json\",\n",
    "           'Authorization': api_key}\n",
    "url ='https://api.foursquare.com/v3/places/search?'\n",
    "\n",
    "def get_nearby_places(lat, lon):\n",
    "    filters = {  'll': f'{lat},{lon}',            #lat and lon to same string\n",
    "                'radius': 1000,                  # Radius in meters (specified above)  \n",
    "                'categories': 13032,       # code for coffee shops and cafes\n",
    "                'limit': 50              \n",
    "            }                 \n",
    "    response = requests.get(url, headers= headers, params= filters)\n",
    "    if response.status_code == 200:             #if api call was successfull return the results\n",
    "        data = response.json()\n",
    "        results = data['results']\n",
    "        df_results = pd.json_normalize(results)\n",
    "        return df_results\n",
    "    else:\n",
    "        print('Error')\n",
    "        return None"
   ]
  },
  {
   "cell_type": "markdown",
   "metadata": {},
   "source": [
    "Parse through the response to get the POI (such as restaurants, bars, etc) details you want (ratings, name, location, etc)"
   ]
  },
  {
   "cell_type": "markdown",
   "metadata": {},
   "source": [
    "Put your parsed results into a DataFrame"
   ]
  },
  {
   "cell_type": "code",
   "execution_count": 95,
   "metadata": {},
   "outputs": [],
   "source": [
    "# Iterate through the DataFrame and make API calls\n",
    "df_all_stations = pd.DataFrame()\n",
    "for index, row in df2.iterrows():\n",
    "    lat, lon = row['latitude'], row['longitude']\n",
    "    df_this_station = get_nearby_places(lat, lon)\n",
    "    \n",
    "    if df_this_station is not None:\n",
    "        df_this_station['station'] = row['station_id']\n",
    "        df_all_stations = pd.concat([df_all_stations, df_this_station], axis=0)\n",
    "\n",
    "# df_all_stations"
   ]
  },
  {
   "cell_type": "markdown",
   "metadata": {},
   "source": [
    "# Yelp"
   ]
  },
  {
   "cell_type": "markdown",
   "metadata": {},
   "source": [
    "Send a request to Yelp with a small radius (1000m) for all the bike stations in your city of choice. "
   ]
  },
  {
   "cell_type": "markdown",
   "metadata": {},
   "source": [
    "Test api call:"
   ]
  },
  {
   "cell_type": "code",
   "execution_count": 155,
   "metadata": {},
   "outputs": [],
   "source": [
    "yelp_api_key = os.environ['yelp_api']\n",
    "y_headers = {\"accept\": \"application/json\",\n",
    "           'Authorization': f'Bearer {yelp_api_key}'\n",
    "}\n",
    "filters = {     'latitude': 48.4, \n",
    "                'longitude': 123.4,           \n",
    "                'radius': 1000     \n",
    "            }      \n",
    "y_url = f'https://api.yelp.com/v3/businesses/search?'\n",
    "y_response = requests.get(y_url, headers=y_headers, params=filters)"
   ]
  },
  {
   "cell_type": "code",
   "execution_count": 156,
   "metadata": {},
   "outputs": [],
   "source": [
    "testing = y_response.json()\n",
    "testing['businesses'] #will use this for json_normalize in function"
   ]
  },
  {
   "cell_type": "markdown",
   "metadata": {},
   "source": [
    "Yelp API call:"
   ]
  },
  {
   "cell_type": "code",
   "execution_count": 136,
   "metadata": {},
   "outputs": [],
   "source": [
    "yelp_api_key = os.environ['yelp_api']\n",
    "y_headers = {\"accept\": \"application/json\",\n",
    "           'Authorization': f'Bearer {yelp_api_key}'\n",
    "           }\n",
    "y_url = f'https://api.yelp.com/v3/businesses/search?'\n",
    "\n",
    "def get_yelp_places(lat, lon):\n",
    "    filters = { 'latitude': lat, \n",
    "                'longitude': lon,           \n",
    "                'radius': 1000,                    \n",
    "                'categories': 'cafes',      \n",
    "            }                 \n",
    "    y_response = requests.get(y_url, headers=y_headers, params=filters)\n",
    "    if y_response.status_code == 200:             \n",
    "        data = y_response.json()\n",
    "        results = data['businesses']\n",
    "        df_results = pd.json_normalize(results)\n",
    "        return df_results\n",
    "    else:\n",
    "        print('Error')\n",
    "        return None\n"
   ]
  },
  {
   "cell_type": "markdown",
   "metadata": {},
   "source": [
    "Parse through the response to get the POI (such as restaurants, bars, etc) details you want (ratings, name, location, etc)"
   ]
  },
  {
   "cell_type": "markdown",
   "metadata": {},
   "source": [
    "Put your parsed results into a DataFrame"
   ]
  },
  {
   "cell_type": "code",
   "execution_count": null,
   "metadata": {},
   "outputs": [],
   "source": [
    "# Iterate through the DataFrame and make API calls\n",
    "df_yelp_stations = pd.DataFrame()\n",
    "for index, row in df2.iterrows():\n",
    "    lat = row['latitude']\n",
    "    lon =  row['longitude']\n",
    "    df_this_yelp = get_yelp_places(lat, lon)\n",
    "    \n",
    "    if df_this_yelp is not None:\n",
    "        df_this_yelp['station'] = row['station_id']\n",
    "        df_yelp_stations = pd.concat([df_yelp_stations, df_this_yelp], axis=0)\n",
    "df_yelp_stations = df_yelp_stations.reset_index(drop=True)"
   ]
  },
  {
   "cell_type": "markdown",
   "metadata": {},
   "source": [
    "# Comparing Results"
   ]
  },
  {
   "cell_type": "markdown",
   "metadata": {},
   "source": [
    "Which API provided you with more complete data? Provide an explanation. "
   ]
  },
  {
   "cell_type": "markdown",
   "metadata": {},
   "source": []
  },
  {
   "cell_type": "markdown",
   "metadata": {},
   "source": [
    "Get the top 10 restaurants according to their rating"
   ]
  },
  {
   "cell_type": "code",
   "execution_count": null,
   "metadata": {},
   "outputs": [],
   "source": []
  }
 ],
 "metadata": {
  "kernelspec": {
   "display_name": "first_env",
   "language": "python",
   "name": "first_env"
  },
  "language_info": {
   "codemirror_mode": {
    "name": "ipython",
    "version": 3
   },
   "file_extension": ".py",
   "mimetype": "text/x-python",
   "name": "python",
   "nbconvert_exporter": "python",
   "pygments_lexer": "ipython3",
   "version": "3.9.15"
  }
 },
 "nbformat": 4,
 "nbformat_minor": 4
}
