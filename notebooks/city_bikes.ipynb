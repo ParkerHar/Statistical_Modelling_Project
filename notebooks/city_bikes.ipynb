{
 "cells": [
  {
   "cell_type": "markdown",
   "metadata": {},
   "source": [
    "# CityBikes"
   ]
  },
  {
   "cell_type": "markdown",
   "metadata": {},
   "source": [
    "Send a request to CityBikes for the city of your choice. "
   ]
  },
  {
   "cell_type": "code",
   "execution_count": 1,
   "metadata": {},
   "outputs": [],
   "source": [
    "import pandas as pd\n",
    "import json\n",
    "import requests"
   ]
  },
  {
   "cell_type": "code",
   "execution_count": 3,
   "metadata": {},
   "outputs": [],
   "source": [
    "url = 'http://api.citybik.es/v2/networks'\n",
    "response = requests.get(url, params=params)\n",
    "response\n",
    "\n",
    "data = response.json()\n",
    "data"
   ]
  },
  {
   "cell_type": "code",
   "execution_count": 7,
   "metadata": {},
   "outputs": [],
   "source": [
    "df = pd.json_normalize(data, record_path='networks')"
   ]
  },
  {
   "cell_type": "code",
   "execution_count": null,
   "metadata": {},
   "outputs": [],
   "source": [
    "#finding the id and name for the Vancouver location\n",
    "df[df['location.country']=='CA']\n",
    "#ID for Vancouver is mobibikes"
   ]
  },
  {
   "cell_type": "code",
   "execution_count": 34,
   "metadata": {},
   "outputs": [],
   "source": [
    "#base on API documentation append the ID, mobibikes, do the url\n",
    "url = 'http://api.citybik.es/v2/networks/mobibikes'"
   ]
  },
  {
   "cell_type": "code",
   "execution_count": null,
   "metadata": {},
   "outputs": [],
   "source": [
    "response = requests.get(url)\n",
    "response\n",
    "\n",
    "data = response.json()\n",
    "data"
   ]
  },
  {
   "cell_type": "markdown",
   "metadata": {},
   "source": [
    "Parse through the response to get the details you want for the bike stations in that city (latitude, longitude, number of bikes). "
   ]
  },
  {
   "cell_type": "code",
   "execution_count": 109,
   "metadata": {},
   "outputs": [],
   "source": [
    "#Grabbing fields from response\n",
    "citys = data['network']['location']['city']\n",
    "station_ids = data['network']['stations'][0]['id']\n",
    "station_names = data['network']['stations'][0]['name']\n",
    "lats = data['network']['stations'][0]['latitude']\n",
    "lons = data['network']['stations'][0]['longitude']\n",
    "free_bikes = data['network']['stations'][0]['free_bikes']\n",
    "empty_slots = data['network']['stations'][0]['empty_slots']\n"
   ]
  },
  {
   "cell_type": "markdown",
   "metadata": {},
   "source": [
    "Put your parsed results into a DataFrame."
   ]
  },
  {
   "cell_type": "code",
   "execution_count": 111,
   "metadata": {},
   "outputs": [],
   "source": [
    "stations = data['network']['stations']\n",
    "grab_data = [\n",
    "    {\n",
    "        'city': data['network']['location']['city'],\n",
    "        'station_id': station['id'],\n",
    "        'station_name': station['name'],\n",
    "        'latitude': station['latitude'],\n",
    "        'longitude': station['longitude'],\n",
    "        'free_bikes': station['free_bikes'],\n",
    "        'empty_slots': station['empty_slots']\n",
    "    }\n",
    "    for station in stations\n",
    "]"
   ]
  },
  {
   "cell_type": "code",
   "execution_count": 112,
   "metadata": {},
   "outputs": [],
   "source": [
    "df = pd.DataFrame(grab_data)\n",
    "# df"
   ]
  },
  {
   "cell_type": "code",
   "execution_count": 114,
   "metadata": {},
   "outputs": [],
   "source": [
    "#to be used in other workbooks\n",
    "df.to_csv('city_bikes.csv',index=False,sep=',' )"
   ]
  }
 ],
 "metadata": {
  "kernelspec": {
   "display_name": "first_env",
   "language": "python",
   "name": "first_env"
  },
  "language_info": {
   "codemirror_mode": {
    "name": "ipython",
    "version": 3
   },
   "file_extension": ".py",
   "mimetype": "text/x-python",
   "name": "python",
   "nbconvert_exporter": "python",
   "pygments_lexer": "ipython3",
   "version": "3.9.15"
  }
 },
 "nbformat": 4,
 "nbformat_minor": 4
}
