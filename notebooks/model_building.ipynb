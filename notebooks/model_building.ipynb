{
 "cells": [
  {
   "cell_type": "code",
   "execution_count": 1,
   "metadata": {},
   "outputs": [],
   "source": [
    "import statsmodels.api as sm\n",
    "import pandas as pd"
   ]
  },
  {
   "cell_type": "markdown",
   "metadata": {},
   "source": [
    "Build a regression model."
   ]
  },
  {
   "cell_type": "code",
   "execution_count": 4,
   "metadata": {},
   "outputs": [],
   "source": [
    "model_df = pd.read_csv('/Users/parkerharalds/Documents/Lighthouse/Statistical_Modelling_Project/data/model_data')"
   ]
  },
  {
   "cell_type": "code",
   "execution_count": 5,
   "metadata": {},
   "outputs": [
    {
     "data": {
      "text/html": [
       "<div>\n",
       "<style scoped>\n",
       "    .dataframe tbody tr th:only-of-type {\n",
       "        vertical-align: middle;\n",
       "    }\n",
       "\n",
       "    .dataframe tbody tr th {\n",
       "        vertical-align: top;\n",
       "    }\n",
       "\n",
       "    .dataframe thead th {\n",
       "        text-align: right;\n",
       "    }\n",
       "</style>\n",
       "<table border=\"1\" class=\"dataframe\">\n",
       "  <thead>\n",
       "    <tr style=\"text-align: right;\">\n",
       "      <th></th>\n",
       "      <th>empty_slots_mean</th>\n",
       "      <th>free_bikes_mean</th>\n",
       "      <th>total_bikes_mean</th>\n",
       "      <th>distance_max</th>\n",
       "      <th>distance_mean</th>\n",
       "      <th>distance_min</th>\n",
       "      <th>cafes_count</th>\n",
       "      <th>rating_max</th>\n",
       "      <th>rating_mean</th>\n",
       "      <th>rating_min</th>\n",
       "      <th>review_count_max</th>\n",
       "      <th>review_count_mean</th>\n",
       "      <th>review_count_min</th>\n",
       "    </tr>\n",
       "  </thead>\n",
       "  <tbody>\n",
       "    <tr>\n",
       "      <th>0</th>\n",
       "      <td>7.0</td>\n",
       "      <td>11.0</td>\n",
       "      <td>18.0</td>\n",
       "      <td>1199.915982</td>\n",
       "      <td>810.193384</td>\n",
       "      <td>350.540969</td>\n",
       "      <td>18</td>\n",
       "      <td>5.0</td>\n",
       "      <td>3.616667</td>\n",
       "      <td>0.0</td>\n",
       "      <td>370.0</td>\n",
       "      <td>57.611111</td>\n",
       "      <td>0.0</td>\n",
       "    </tr>\n",
       "    <tr>\n",
       "      <th>1</th>\n",
       "      <td>13.0</td>\n",
       "      <td>1.0</td>\n",
       "      <td>14.0</td>\n",
       "      <td>951.596216</td>\n",
       "      <td>578.035308</td>\n",
       "      <td>71.274224</td>\n",
       "      <td>12</td>\n",
       "      <td>4.6</td>\n",
       "      <td>3.991667</td>\n",
       "      <td>3.2</td>\n",
       "      <td>519.0</td>\n",
       "      <td>120.583333</td>\n",
       "      <td>1.0</td>\n",
       "    </tr>\n",
       "    <tr>\n",
       "      <th>2</th>\n",
       "      <td>14.0</td>\n",
       "      <td>0.0</td>\n",
       "      <td>14.0</td>\n",
       "      <td>1138.992659</td>\n",
       "      <td>663.138811</td>\n",
       "      <td>145.760213</td>\n",
       "      <td>20</td>\n",
       "      <td>4.8</td>\n",
       "      <td>3.445000</td>\n",
       "      <td>0.0</td>\n",
       "      <td>103.0</td>\n",
       "      <td>19.050000</td>\n",
       "      <td>0.0</td>\n",
       "    </tr>\n",
       "    <tr>\n",
       "      <th>3</th>\n",
       "      <td>14.0</td>\n",
       "      <td>11.0</td>\n",
       "      <td>25.0</td>\n",
       "      <td>876.702883</td>\n",
       "      <td>539.830458</td>\n",
       "      <td>88.697075</td>\n",
       "      <td>12</td>\n",
       "      <td>5.0</td>\n",
       "      <td>3.608333</td>\n",
       "      <td>0.0</td>\n",
       "      <td>189.0</td>\n",
       "      <td>31.000000</td>\n",
       "      <td>0.0</td>\n",
       "    </tr>\n",
       "    <tr>\n",
       "      <th>4</th>\n",
       "      <td>9.0</td>\n",
       "      <td>5.0</td>\n",
       "      <td>14.0</td>\n",
       "      <td>1281.087849</td>\n",
       "      <td>844.545892</td>\n",
       "      <td>217.292249</td>\n",
       "      <td>16</td>\n",
       "      <td>5.0</td>\n",
       "      <td>3.643750</td>\n",
       "      <td>0.0</td>\n",
       "      <td>285.0</td>\n",
       "      <td>39.750000</td>\n",
       "      <td>0.0</td>\n",
       "    </tr>\n",
       "  </tbody>\n",
       "</table>\n",
       "</div>"
      ],
      "text/plain": [
       "   empty_slots_mean  free_bikes_mean  total_bikes_mean  distance_max  \\\n",
       "0               7.0             11.0              18.0   1199.915982   \n",
       "1              13.0              1.0              14.0    951.596216   \n",
       "2              14.0              0.0              14.0   1138.992659   \n",
       "3              14.0             11.0              25.0    876.702883   \n",
       "4               9.0              5.0              14.0   1281.087849   \n",
       "\n",
       "   distance_mean  distance_min  cafes_count  rating_max  rating_mean  \\\n",
       "0     810.193384    350.540969           18         5.0     3.616667   \n",
       "1     578.035308     71.274224           12         4.6     3.991667   \n",
       "2     663.138811    145.760213           20         4.8     3.445000   \n",
       "3     539.830458     88.697075           12         5.0     3.608333   \n",
       "4     844.545892    217.292249           16         5.0     3.643750   \n",
       "\n",
       "   rating_min  review_count_max  review_count_mean  review_count_min  \n",
       "0         0.0             370.0          57.611111               0.0  \n",
       "1         3.2             519.0         120.583333               1.0  \n",
       "2         0.0             103.0          19.050000               0.0  \n",
       "3         0.0             189.0          31.000000               0.0  \n",
       "4         0.0             285.0          39.750000               0.0  "
      ]
     },
     "execution_count": 5,
     "metadata": {},
     "output_type": "execute_result"
    }
   ],
   "source": [
    "model_df.head()"
   ]
  },
  {
   "cell_type": "code",
   "execution_count": 7,
   "metadata": {},
   "outputs": [],
   "source": [
    "X = model_df['total_bikes_mean']\n",
    "y = model_df['cafes_count']"
   ]
  },
  {
   "cell_type": "code",
   "execution_count": null,
   "metadata": {},
   "outputs": [],
   "source": [
    "X = sm.add_constant(X) # adding a constant\n",
    "lin_reg = sm.OLS(y,X)\n",
    "\n",
    "model = lin_reg.fit()\n",
    "print_model = model.summary()\n"
   ]
  },
  {
   "cell_type": "markdown",
   "metadata": {},
   "source": [
    "Provide model output and an interpretation of the results. "
   ]
  },
  {
   "cell_type": "code",
   "execution_count": 10,
   "metadata": {},
   "outputs": [
    {
     "name": "stdout",
     "output_type": "stream",
     "text": [
      "                            OLS Regression Results                            \n",
      "==============================================================================\n",
      "Dep. Variable:            cafes_count   R-squared:                       0.005\n",
      "Model:                            OLS   Adj. R-squared:                  0.001\n",
      "Method:                 Least Squares   F-statistic:                     1.196\n",
      "Date:                Fri, 18 Oct 2024   Prob (F-statistic):              0.275\n",
      "Time:                        18:59:21   Log-Likelihood:                -804.32\n",
      "No. Observations:                 253   AIC:                             1613.\n",
      "Df Residuals:                     251   BIC:                             1620.\n",
      "Df Model:                           1                                         \n",
      "Covariance Type:            nonrobust                                         \n",
      "====================================================================================\n",
      "                       coef    std err          t      P>|t|      [0.025      0.975]\n",
      "------------------------------------------------------------------------------------\n",
      "const               16.5012      1.320     12.503      0.000      13.902      19.100\n",
      "total_bikes_mean    -0.0776      0.071     -1.094      0.275      -0.217       0.062\n",
      "==============================================================================\n",
      "Omnibus:                       38.470   Durbin-Watson:                   1.889\n",
      "Prob(Omnibus):                  0.000   Jarque-Bera (JB):               33.720\n",
      "Skew:                          -0.808   Prob(JB):                     4.76e-08\n",
      "Kurtosis:                       2.236   Cond. No.                         67.1\n",
      "==============================================================================\n",
      "\n",
      "Notes:\n",
      "[1] Standard Errors assume that the covariance matrix of the errors is correctly specified.\n"
     ]
    }
   ],
   "source": [
    "print(print_model)"
   ]
  },
  {
   "cell_type": "markdown",
   "metadata": {},
   "source": [
    "This model is a terrible predictor of the number of cafes in area based on the total bikes at a given bike station. The r_squared value is 0.005 which is horrible. The p_value is also 0.275 which indicates that we can not reject the null hypothesis and that the total bikes is not statistically significant in determining the number of cafes in an area."
   ]
  },
  {
   "cell_type": "markdown",
   "metadata": {},
   "source": [
    "# Stretch"
   ]
  },
  {
   "cell_type": "markdown",
   "metadata": {},
   "source": [
    "How can you turn the regression model into a classification model?"
   ]
  },
  {
   "cell_type": "code",
   "execution_count": null,
   "metadata": {},
   "outputs": [],
   "source": []
  }
 ],
 "metadata": {
  "kernelspec": {
   "display_name": "first_env",
   "language": "python",
   "name": "first_env"
  },
  "language_info": {
   "codemirror_mode": {
    "name": "ipython",
    "version": 3
   },
   "file_extension": ".py",
   "mimetype": "text/x-python",
   "name": "python",
   "nbconvert_exporter": "python",
   "pygments_lexer": "ipython3",
   "version": "3.9.15"
  }
 },
 "nbformat": 4,
 "nbformat_minor": 4
}
