{
 "cells": [
  {
   "cell_type": "code",
   "execution_count": 21,
   "metadata": {},
   "outputs": [],
   "source": [
    "# imports\n",
    "import pandas as pd\n",
    "from sklearn.metrics import confusion_matrix\n",
    "import numpy as np\n",
    "import seaborn as sns\n",
    "import matplotlib.pyplot as plt"
   ]
  },
  {
   "cell_type": "markdown",
   "metadata": {},
   "source": [
    "Join the data from Part 1 with the data from Part 2 to create a new dataframe."
   ]
  },
  {
   "cell_type": "code",
   "execution_count": 9,
   "metadata": {},
   "outputs": [],
   "source": [
    "yelp_df = pd.read_csv('/Users/parkerharalds/Documents/Lighthouse/Statistical_Modelling_Project/data/yelp_df.csv')\n",
    "bikes_df = pd.read_csv('/Users/parkerharalds/Documents/Lighthouse/Statistical_Modelling_Project/data/city_bikes.csv')"
   ]
  },
  {
   "cell_type": "code",
   "execution_count": null,
   "metadata": {},
   "outputs": [],
   "source": [
    "yelp_df.head(2)\n",
    "bikes_df.head(2)"
   ]
  },
  {
   "cell_type": "code",
   "execution_count": 11,
   "metadata": {},
   "outputs": [],
   "source": [
    "#renaming station_id column for merge\n",
    "bikes_df = bikes_df.rename(columns={'station_id': 'station'})"
   ]
  },
  {
   "cell_type": "code",
   "execution_count": 13,
   "metadata": {},
   "outputs": [],
   "source": [
    "main_df = pd.merge(bikes_df,yelp_df,on='station')"
   ]
  },
  {
   "cell_type": "code",
   "execution_count": 19,
   "metadata": {},
   "outputs": [
    {
     "name": "stdout",
     "output_type": "stream",
     "text": [
      " (3864, 36) \n",
      " (3864, 30) \n",
      " (258, 7)\n"
     ]
    }
   ],
   "source": [
    "#checking shape of main_df against shape of original dataframes.\n",
    "print('',main_df.shape,'\\n',yelp_df.shape,'\\n',bikes_df.shape)"
   ]
  },
  {
   "cell_type": "code",
   "execution_count": 38,
   "metadata": {},
   "outputs": [],
   "source": [
    "#dropping city as it is redundant\n",
    "main_df2 = main_df.drop(['city'],axis=1)\n",
    "#check shape after dropping column\n",
    "main_df2.shape\n",
    "main_df = main_df2"
   ]
  },
  {
   "cell_type": "code",
   "execution_count": 40,
   "metadata": {},
   "outputs": [
    {
     "data": {
      "text/plain": [
       "Index(['station', 'station_name', 'latitude', 'longitude', 'free_bikes',\n",
       "       'empty_slots', 'id', 'alias', 'name', 'image_url', 'is_closed', 'url',\n",
       "       'review_count', 'categories', 'rating', 'transactions', 'phone',\n",
       "       'display_phone', 'distance', 'business_hours', 'coordinates.latitude',\n",
       "       'coordinates.longitude', 'location.address1', 'location.address2',\n",
       "       'location.address3', 'location.city', 'location.zip_code',\n",
       "       'location.country', 'location.state', 'location.display_address',\n",
       "       'attributes.business_temp_closed', 'attributes.menu_url',\n",
       "       'attributes.open24_hours', 'attributes.waitlist_reservation', 'price'],\n",
       "      dtype='object')"
      ]
     },
     "execution_count": 40,
     "metadata": {},
     "output_type": "execute_result"
    }
   ],
   "source": [
    "#getting an idea of columns in full df\n",
    "main_df.columns"
   ]
  },
  {
   "cell_type": "code",
   "execution_count": 43,
   "metadata": {},
   "outputs": [],
   "source": [
    "#dropping many columns as they do not seem relevant\n",
    "to_drop = main_df.columns[19:35]\n",
    "main_df3 = main_df.drop(to_drop,axis=1)"
   ]
  },
  {
   "cell_type": "code",
   "execution_count": 49,
   "metadata": {},
   "outputs": [],
   "source": [
    "drop_again = ['alias','image_url','is_closed','url','phone','display_phone']\n",
    "#forgot one\n",
    "drop_me = ['categories']\n",
    "main_df3 = main_df3.drop(drop_me, axis=1)\n"
   ]
  },
  {
   "cell_type": "code",
   "execution_count": 50,
   "metadata": {},
   "outputs": [
    {
     "data": {
      "text/html": [
       "<div>\n",
       "<style scoped>\n",
       "    .dataframe tbody tr th:only-of-type {\n",
       "        vertical-align: middle;\n",
       "    }\n",
       "\n",
       "    .dataframe tbody tr th {\n",
       "        vertical-align: top;\n",
       "    }\n",
       "\n",
       "    .dataframe thead th {\n",
       "        text-align: right;\n",
       "    }\n",
       "</style>\n",
       "<table border=\"1\" class=\"dataframe\">\n",
       "  <thead>\n",
       "    <tr style=\"text-align: right;\">\n",
       "      <th></th>\n",
       "      <th>station</th>\n",
       "      <th>station_name</th>\n",
       "      <th>latitude</th>\n",
       "      <th>longitude</th>\n",
       "      <th>free_bikes</th>\n",
       "      <th>empty_slots</th>\n",
       "      <th>id</th>\n",
       "      <th>name</th>\n",
       "      <th>review_count</th>\n",
       "      <th>rating</th>\n",
       "      <th>transactions</th>\n",
       "      <th>distance</th>\n",
       "    </tr>\n",
       "  </thead>\n",
       "  <tbody>\n",
       "    <tr>\n",
       "      <th>0</th>\n",
       "      <td>00fa94ad698dc4a9e4d708d6fd32f294</td>\n",
       "      <td>Chilco &amp; Barclay</td>\n",
       "      <td>49.291909</td>\n",
       "      <td>-123.140713</td>\n",
       "      <td>11</td>\n",
       "      <td>7</td>\n",
       "      <td>nFxhMiWh2JRfaWW79aj66A</td>\n",
       "      <td>Café Portrait</td>\n",
       "      <td>74.0</td>\n",
       "      <td>4.4</td>\n",
       "      <td>[]</td>\n",
       "      <td>423.473619</td>\n",
       "    </tr>\n",
       "    <tr>\n",
       "      <th>1</th>\n",
       "      <td>00fa94ad698dc4a9e4d708d6fd32f294</td>\n",
       "      <td>Chilco &amp; Barclay</td>\n",
       "      <td>49.291909</td>\n",
       "      <td>-123.140713</td>\n",
       "      <td>11</td>\n",
       "      <td>7</td>\n",
       "      <td>vZkovAEB5N5l1ZtS6aVDnA</td>\n",
       "      <td>Breka Bakery &amp; Cafe</td>\n",
       "      <td>370.0</td>\n",
       "      <td>3.9</td>\n",
       "      <td>[]</td>\n",
       "      <td>1199.915982</td>\n",
       "    </tr>\n",
       "    <tr>\n",
       "      <th>2</th>\n",
       "      <td>00fa94ad698dc4a9e4d708d6fd32f294</td>\n",
       "      <td>Chilco &amp; Barclay</td>\n",
       "      <td>49.291909</td>\n",
       "      <td>-123.140713</td>\n",
       "      <td>11</td>\n",
       "      <td>7</td>\n",
       "      <td>h1vHMq39YhDrxzpwBPelOA</td>\n",
       "      <td>Breka Bakery and Cafe</td>\n",
       "      <td>28.0</td>\n",
       "      <td>3.8</td>\n",
       "      <td>[]</td>\n",
       "      <td>350.540969</td>\n",
       "    </tr>\n",
       "  </tbody>\n",
       "</table>\n",
       "</div>"
      ],
      "text/plain": [
       "                            station      station_name   latitude   longitude  \\\n",
       "0  00fa94ad698dc4a9e4d708d6fd32f294  Chilco & Barclay  49.291909 -123.140713   \n",
       "1  00fa94ad698dc4a9e4d708d6fd32f294  Chilco & Barclay  49.291909 -123.140713   \n",
       "2  00fa94ad698dc4a9e4d708d6fd32f294  Chilco & Barclay  49.291909 -123.140713   \n",
       "\n",
       "   free_bikes  empty_slots                      id                   name  \\\n",
       "0          11            7  nFxhMiWh2JRfaWW79aj66A          Café Portrait   \n",
       "1          11            7  vZkovAEB5N5l1ZtS6aVDnA    Breka Bakery & Cafe   \n",
       "2          11            7  h1vHMq39YhDrxzpwBPelOA  Breka Bakery and Cafe   \n",
       "\n",
       "   review_count  rating transactions     distance  \n",
       "0          74.0     4.4           []   423.473619  \n",
       "1         370.0     3.9           []  1199.915982  \n",
       "2          28.0     3.8           []   350.540969  "
      ]
     },
     "execution_count": 50,
     "metadata": {},
     "output_type": "execute_result"
    }
   ],
   "source": [
    "main_df3.head(3)"
   ]
  },
  {
   "cell_type": "markdown",
   "metadata": {},
   "source": [
    "As I am going to look into if there is a correlation between the number of bikes and the number of cafes, I decided to drop many columns from the main_df. This could have been done earlier when making the api calls; however, I decided I would like to grab more data than I need at this time from those calls. That way I can practice with the data in the future"
   ]
  },
  {
   "cell_type": "markdown",
   "metadata": {},
   "source": [
    "Provide a visualization that you used as part of your EDA process. Explain the initial pattern or relationship you discoved through this visualization. "
   ]
  },
  {
   "cell_type": "code",
   "execution_count": 32,
   "metadata": {},
   "outputs": [
    {
     "data": {
      "image/png": "[encoded data removed]",
      "text/plain": [
       "<Figure size 800x600 with 2 Axes>"
      ]
     },
     "metadata": {},
     "output_type": "display_data"
    }
   ],
   "source": [
    "corr_matrix = num_main_df2.corr()\n",
    "\n",
    "plt.figure(figsize=(8, 6))\n",
    "sns.heatmap(corr_matrix, annot=True, cmap='coolwarm', cbar=True, fmt='.2f')\n",
    "plt.title(\"Correlation Matrix\")\n",
    "plt.show()"
   ]
  },
  {
   "cell_type": "markdown",
   "metadata": {},
   "source": [
    "# Database"
   ]
  },
  {
   "cell_type": "markdown",
   "metadata": {},
   "source": [
    "Put all your results in an SQLite3 database (remember, SQLite stores its databases as files in your local machine - make sure to create your database in your project's data/ directory!)"
   ]
  },
  {
   "cell_type": "code",
   "execution_count": null,
   "metadata": {},
   "outputs": [],
   "source": []
  },
  {
   "cell_type": "markdown",
   "metadata": {},
   "source": [
    "Look at the data before and after the join to validate your data."
   ]
  },
  {
   "cell_type": "code",
   "execution_count": null,
   "metadata": {},
   "outputs": [],
   "source": []
  }
 ],
 "metadata": {
  "kernelspec": {
   "display_name": "first_env",
   "language": "python",
   "name": "first_env"
  },
  "language_info": {
   "codemirror_mode": {
    "name": "ipython",
    "version": 3
   },
   "file_extension": ".py",
   "mimetype": "text/x-python",
   "name": "python",
   "nbconvert_exporter": "python",
   "pygments_lexer": "ipython3",
   "version": "3.9.15"
  }
 },
 "nbformat": 4,
 "nbformat_minor": 4
}
